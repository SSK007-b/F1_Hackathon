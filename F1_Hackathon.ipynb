{
 "cells": [
  {
   "cell_type": "code",
   "execution_count": 15,
   "id": "298a80fe-b469-4d68-b82f-32b98a9d114e",
   "metadata": {},
   "outputs": [],
   "source": [
    "import pandas as pd\n",
    "import numpy as np\n",
    "import seaborn as sns\n",
    "from sklearn.preprocessing import LabelEncoder\n",
    "from sklearn.ensemble import RandomForestClassifier\n",
    "from sklearn.metrics import accuracy_score, mean_squared_error\n",
    "import joblib\n",
    "import math"
   ]
  },
  {
   "cell_type": "code",
   "execution_count": 2,
   "id": "47231d36-834c-4189-bb1c-52857919e60c",
   "metadata": {},
   "outputs": [
    {
     "name": "stderr",
     "output_type": "stream",
     "text": [
      "C:\\Users\\dell\\AppData\\Local\\Temp\\ipykernel_12092\\2919642250.py:1: DtypeWarning: Columns (4,13,14,16,47) have mixed types. Specify dtype option on import or set low_memory=False.\n",
      "  dataset = pd.read_csv(r\"Dataset\\train.csv\")\n"
     ]
    }
   ],
   "source": [
    "dataset = pd.read_csv(r\"Dataset\\train.csv\")\n",
    "dataset=dataset.drop(['resultId','racerId','constructorId','year','round','circuitId','grand_prix','date','url_x','fp1_date','fp1_time','fp2_date','fp2_time','fp3_time','quali_date','quali_time','sprint_date','sprint_time','driverRef','driver_num','driver_code','forename','surname','dob','nationality','url_y','constructorRef','company','nationality_y','url','time_y','positionText_y','fp3_date'],axis=1)"
   ]
  },
  {
   "cell_type": "code",
   "execution_count": 3,
   "id": "44b3febf-3c4e-49dc-b813-f8b9fcfe49bc",
   "metadata": {},
   "outputs": [
    {
     "name": "stdout",
     "output_type": "stream",
     "text": [
      "<class 'pandas.core.frame.DataFrame'>\n",
      "RangeIndex: 2830101 entries, 0 to 2830100\n",
      "Data columns (total 22 columns):\n",
      " #   Column                  Dtype  \n",
      "---  ------                  -----  \n",
      " 0   driverId                int64  \n",
      " 1   number                  object \n",
      " 2   grid                    int64  \n",
      " 3   position_x              object \n",
      " 4   positionText_x          object \n",
      " 5   positionOrder           int64  \n",
      " 6   points                  float64\n",
      " 7   laps                    int64  \n",
      " 8   time_x                  object \n",
      " 9   timetaken_in_millisec   object \n",
      " 10  fastestLap              object \n",
      " 11  rank                    object \n",
      " 12  fastestLapTime          object \n",
      " 13  max_speed               object \n",
      " 14  statusId                int64  \n",
      " 15  driverStandingsId       int64  \n",
      " 16  raceId_y                int64  \n",
      " 17  points_y                float64\n",
      " 18  position                int64  \n",
      " 19  wins                    int64  \n",
      " 20  status                  object \n",
      " 21  result_driver_standing  int64  \n",
      "dtypes: float64(2), int64(10), object(10)\n",
      "memory usage: 475.0+ MB\n"
     ]
    }
   ],
   "source": [
    "dataset=dataset.replace(\"\\\\N\",0)\n",
    "dataset.info()"
   ]
  },
  {
   "cell_type": "code",
   "execution_count": 4,
   "id": "00d9e123-dc0c-4099-b3e3-fd2dd9a58517",
   "metadata": {},
   "outputs": [],
   "source": [
    "dataset['number']=dataset['number'].astype(float)\n",
    "dataset['position_x']=dataset['position_x'].astype(float)\n",
    "dataset['positionText_x']=dataset['positionText_x'].astype(str)\n",
    "dataset['time_x']=dataset['time_x'].astype(str)\n",
    "dataset['timetaken_in_millisec']=dataset['timetaken_in_millisec'].astype(float)\n",
    "dataset['fastestLap']=dataset['fastestLap'].astype(float)\n",
    "dataset['fastestLapTime']=dataset['fastestLapTime'].astype(str)\n",
    "dataset['status']=dataset['status'].astype(str)\n",
    "dataset['max_speed']=dataset['max_speed'].astype(float)"
   ]
  },
  {
   "cell_type": "code",
   "execution_count": 5,
   "id": "3e3afcd3-cf7d-46c9-8c66-4a089ce18ab6",
   "metadata": {},
   "outputs": [
    {
     "name": "stdout",
     "output_type": "stream",
     "text": [
      "<class 'pandas.core.frame.DataFrame'>\n",
      "RangeIndex: 2830101 entries, 0 to 2830100\n",
      "Data columns (total 22 columns):\n",
      " #   Column                  Dtype  \n",
      "---  ------                  -----  \n",
      " 0   driverId                int64  \n",
      " 1   number                  float64\n",
      " 2   grid                    int64  \n",
      " 3   position_x              float64\n",
      " 4   positionText_x          int32  \n",
      " 5   positionOrder           int64  \n",
      " 6   points                  float64\n",
      " 7   laps                    int64  \n",
      " 8   time_x                  int32  \n",
      " 9   timetaken_in_millisec   float64\n",
      " 10  fastestLap              float64\n",
      " 11  rank                    object \n",
      " 12  fastestLapTime          int32  \n",
      " 13  max_speed               float64\n",
      " 14  statusId                int64  \n",
      " 15  driverStandingsId       int64  \n",
      " 16  raceId_y                int64  \n",
      " 17  points_y                float64\n",
      " 18  position                int64  \n",
      " 19  wins                    int64  \n",
      " 20  status                  int32  \n",
      " 21  result_driver_standing  int64  \n",
      "dtypes: float64(7), int32(4), int64(10), object(1)\n",
      "memory usage: 431.8+ MB\n"
     ]
    }
   ],
   "source": [
    "encoder=LabelEncoder()\n",
    "dataset['positionText_x']=encoder.fit_transform(dataset['positionText_x'])\n",
    "dataset['time_x']=encoder.fit_transform(dataset['time_x'])\n",
    "dataset['fastestLapTime']=encoder.fit_transform(dataset['fastestLapTime'])\n",
    "dataset['status']=encoder.fit_transform(dataset['status'])\n",
    "dataset.info()"
   ]
  },
  {
   "cell_type": "code",
   "execution_count": 6,
   "id": "9c96a024-aebe-4de4-bbc5-1fa2c774adf2",
   "metadata": {},
   "outputs": [
    {
     "name": "stdout",
     "output_type": "stream",
     "text": [
      "<class 'pandas.core.frame.DataFrame'>\n",
      "RangeIndex: 2830101 entries, 0 to 2830100\n",
      "Data columns (total 21 columns):\n",
      " #   Column                  Dtype  \n",
      "---  ------                  -----  \n",
      " 0   driverId                int64  \n",
      " 1   number                  float64\n",
      " 2   grid                    int64  \n",
      " 3   position_x              float64\n",
      " 4   positionText_x          int32  \n",
      " 5   positionOrder           int64  \n",
      " 6   points                  float64\n",
      " 7   laps                    int64  \n",
      " 8   time_x                  int32  \n",
      " 9   timetaken_in_millisec   float64\n",
      " 10  fastestLap              float64\n",
      " 11  rank                    object \n",
      " 12  fastestLapTime          int32  \n",
      " 13  max_speed               float64\n",
      " 14  statusId                int64  \n",
      " 15  driverStandingsId       int64  \n",
      " 16  raceId_y                int64  \n",
      " 17  points_y                float64\n",
      " 18  wins                    int64  \n",
      " 19  status                  int32  \n",
      " 20  result_driver_standing  int64  \n",
      "dtypes: float64(7), int32(4), int64(9), object(1)\n",
      "memory usage: 410.2+ MB\n"
     ]
    }
   ],
   "source": [
    "x_train=dataset.drop(['position'],axis=1)\n",
    "x_train.info()\n",
    "y_train=dataset['position']"
   ]
  },
  {
   "cell_type": "code",
   "execution_count": 7,
   "id": "bf69f874-b669-4aa5-a2d4-c574d0981b9b",
   "metadata": {},
   "outputs": [
    {
     "name": "stderr",
     "output_type": "stream",
     "text": [
      "C:\\Users\\dell\\AppData\\Local\\Temp\\ipykernel_12092\\4199153772.py:1: DtypeWarning: Columns (13,16,36) have mixed types. Specify dtype option on import or set low_memory=False.\n",
      "  test_data = pd.read_csv(r\"Dataset\\validation.csv\")\n"
     ]
    },
    {
     "name": "stdout",
     "output_type": "stream",
     "text": [
      "<class 'pandas.core.frame.DataFrame'>\n",
      "RangeIndex: 353762 entries, 0 to 353761\n",
      "Data columns (total 55 columns):\n",
      " #   Column                  Non-Null Count   Dtype  \n",
      "---  ------                  --------------   -----  \n",
      " 0   resultId                353762 non-null  int64  \n",
      " 1   racerId                 353762 non-null  int64  \n",
      " 2   driverId                353762 non-null  int64  \n",
      " 3   constructorId           353762 non-null  int64  \n",
      " 4   number                  353762 non-null  int64  \n",
      " 5   grid                    353762 non-null  int64  \n",
      " 6   position_x              353762 non-null  object \n",
      " 7   positionText_x          353762 non-null  object \n",
      " 8   positionOrder           353762 non-null  int64  \n",
      " 9   points                  353762 non-null  float64\n",
      " 10  laps                    353762 non-null  int64  \n",
      " 11  time_x                  353762 non-null  object \n",
      " 12  timetaken_in_millisec   353762 non-null  object \n",
      " 13  fastestLap              353762 non-null  object \n",
      " 14  rank                    353762 non-null  int64  \n",
      " 15  fastestLapTime          353762 non-null  object \n",
      " 16  max_speed               353762 non-null  object \n",
      " 17  statusId                353762 non-null  int64  \n",
      " 18  year                    353762 non-null  int64  \n",
      " 19  round                   353762 non-null  int64  \n",
      " 20  circuitId               353762 non-null  int64  \n",
      " 21  grand_prix              353762 non-null  object \n",
      " 22  date                    353762 non-null  object \n",
      " 23  time_y                  353762 non-null  object \n",
      " 24  url_x                   353762 non-null  object \n",
      " 25  fp1_date                353762 non-null  object \n",
      " 26  fp1_time                353762 non-null  object \n",
      " 27  fp2_date                353762 non-null  object \n",
      " 28  fp2_time                353762 non-null  object \n",
      " 29  fp3_date                353762 non-null  object \n",
      " 30  fp3_time                353762 non-null  object \n",
      " 31  quali_date              353762 non-null  object \n",
      " 32  quali_time              353762 non-null  object \n",
      " 33  sprint_date             353762 non-null  object \n",
      " 34  sprint_time             353762 non-null  object \n",
      " 35  driverRef               353762 non-null  object \n",
      " 36  driver_num              353762 non-null  object \n",
      " 37  driver_code             353762 non-null  object \n",
      " 38  forename                353762 non-null  object \n",
      " 39  surname                 353762 non-null  object \n",
      " 40  dob                     353762 non-null  object \n",
      " 41  nationality             353762 non-null  object \n",
      " 42  url_y                   353762 non-null  object \n",
      " 43  driverStandingsId       353762 non-null  int64  \n",
      " 44  raceId_y                353762 non-null  int64  \n",
      " 45  points_y                353762 non-null  float64\n",
      " 46  position                353762 non-null  int64  \n",
      " 47  positionText_y          353762 non-null  int64  \n",
      " 48  wins                    353762 non-null  int64  \n",
      " 49  constructorRef          353762 non-null  object \n",
      " 50  company                 353762 non-null  object \n",
      " 51  nationality_y           353762 non-null  object \n",
      " 52  url                     353762 non-null  object \n",
      " 53  status                  353762 non-null  object \n",
      " 54  result_driver_standing  353762 non-null  int64  \n",
      "dtypes: float64(2), int64(19), object(34)\n",
      "memory usage: 148.4+ MB\n"
     ]
    }
   ],
   "source": [
    "test_data = pd.read_csv(r\"Dataset\\validation.csv\")\n",
    "test_data.info()"
   ]
  },
  {
   "cell_type": "code",
   "execution_count": 8,
   "id": "c3389f9d-aaf5-4faa-954e-26bae241d29c",
   "metadata": {},
   "outputs": [],
   "source": [
    "dataset=test_data.drop(['resultId','racerId','constructorId','year','round','circuitId','grand_prix','date','url_x','fp1_date','fp1_time','fp2_date','fp2_time','fp3_time','quali_date','quali_time','sprint_date','sprint_time','driverRef','driver_num','driver_code','forename','surname','dob','nationality','url_y','constructorRef','company','nationality_y','url','time_y','positionText_y','fp3_date'],axis=1)"
   ]
  },
  {
   "cell_type": "code",
   "execution_count": 9,
   "id": "ea978624-5c31-41fe-a68e-9291a5d45206",
   "metadata": {},
   "outputs": [
    {
     "name": "stdout",
     "output_type": "stream",
     "text": [
      "<class 'pandas.core.frame.DataFrame'>\n",
      "RangeIndex: 353762 entries, 0 to 353761\n",
      "Data columns (total 22 columns):\n",
      " #   Column                  Non-Null Count   Dtype  \n",
      "---  ------                  --------------   -----  \n",
      " 0   driverId                353762 non-null  int64  \n",
      " 1   number                  353762 non-null  int64  \n",
      " 2   grid                    353762 non-null  int64  \n",
      " 3   position_x              353762 non-null  object \n",
      " 4   positionText_x          353762 non-null  object \n",
      " 5   positionOrder           353762 non-null  int64  \n",
      " 6   points                  353762 non-null  float64\n",
      " 7   laps                    353762 non-null  int64  \n",
      " 8   time_x                  353762 non-null  object \n",
      " 9   timetaken_in_millisec   353762 non-null  object \n",
      " 10  fastestLap              353762 non-null  object \n",
      " 11  rank                    353762 non-null  int64  \n",
      " 12  fastestLapTime          353762 non-null  object \n",
      " 13  max_speed               353762 non-null  object \n",
      " 14  statusId                353762 non-null  int64  \n",
      " 15  driverStandingsId       353762 non-null  int64  \n",
      " 16  raceId_y                353762 non-null  int64  \n",
      " 17  points_y                353762 non-null  float64\n",
      " 18  position                353762 non-null  int64  \n",
      " 19  wins                    353762 non-null  int64  \n",
      " 20  status                  353762 non-null  object \n",
      " 21  result_driver_standing  353762 non-null  int64  \n",
      "dtypes: float64(2), int64(12), object(8)\n",
      "memory usage: 59.4+ MB\n"
     ]
    }
   ],
   "source": [
    "dataset=dataset.replace(\"\\\\N\",0)\n",
    "dataset.info()"
   ]
  },
  {
   "cell_type": "code",
   "execution_count": 10,
   "id": "d18bea1c-b12c-4421-a5d5-047ea152221b",
   "metadata": {},
   "outputs": [],
   "source": [
    "dataset['number']=dataset['number'].astype(float)\n",
    "dataset['position_x']=dataset['position_x'].astype(float)\n",
    "dataset['positionText_x']=dataset['positionText_x'].astype(str)\n",
    "dataset['time_x']=dataset['time_x'].astype(str)\n",
    "dataset['timetaken_in_millisec']=dataset['timetaken_in_millisec'].astype(float)\n",
    "dataset['fastestLap']=dataset['fastestLap'].astype(float)\n",
    "dataset['fastestLapTime']=dataset['fastestLapTime'].astype(str)\n",
    "dataset['status']=dataset['status'].astype(str)\n",
    "dataset['max_speed']=dataset['max_speed'].astype(float)"
   ]
  },
  {
   "cell_type": "code",
   "execution_count": 11,
   "id": "362c2920-a9cd-4df2-a654-9e9c05b08276",
   "metadata": {},
   "outputs": [
    {
     "name": "stdout",
     "output_type": "stream",
     "text": [
      "<class 'pandas.core.frame.DataFrame'>\n",
      "RangeIndex: 353762 entries, 0 to 353761\n",
      "Data columns (total 22 columns):\n",
      " #   Column                  Non-Null Count   Dtype  \n",
      "---  ------                  --------------   -----  \n",
      " 0   driverId                353762 non-null  int64  \n",
      " 1   number                  353762 non-null  float64\n",
      " 2   grid                    353762 non-null  int64  \n",
      " 3   position_x              353762 non-null  float64\n",
      " 4   positionText_x          353762 non-null  int32  \n",
      " 5   positionOrder           353762 non-null  int64  \n",
      " 6   points                  353762 non-null  float64\n",
      " 7   laps                    353762 non-null  int64  \n",
      " 8   time_x                  353762 non-null  int32  \n",
      " 9   timetaken_in_millisec   353762 non-null  float64\n",
      " 10  fastestLap              353762 non-null  float64\n",
      " 11  rank                    353762 non-null  int64  \n",
      " 12  fastestLapTime          353762 non-null  int32  \n",
      " 13  max_speed               353762 non-null  float64\n",
      " 14  statusId                353762 non-null  int64  \n",
      " 15  driverStandingsId       353762 non-null  int64  \n",
      " 16  raceId_y                353762 non-null  int64  \n",
      " 17  points_y                353762 non-null  float64\n",
      " 18  position                353762 non-null  int64  \n",
      " 19  wins                    353762 non-null  int64  \n",
      " 20  status                  353762 non-null  int32  \n",
      " 21  result_driver_standing  353762 non-null  int64  \n",
      "dtypes: float64(7), int32(4), int64(11)\n",
      "memory usage: 54.0 MB\n"
     ]
    }
   ],
   "source": [
    "encoder=LabelEncoder()\n",
    "dataset['positionText_x']=encoder.fit_transform(dataset['positionText_x'])\n",
    "dataset['time_x']=encoder.fit_transform(dataset['time_x'])\n",
    "dataset['fastestLapTime']=encoder.fit_transform(dataset['fastestLapTime'])\n",
    "dataset['status']=encoder.fit_transform(dataset['status'])\n",
    "dataset.info()"
   ]
  },
  {
   "cell_type": "code",
   "execution_count": 12,
   "id": "32e41995-6f0c-4e6d-80d7-83f6d07583cf",
   "metadata": {},
   "outputs": [],
   "source": [
    "x_test=dataset.drop(['position'],axis=1)\n",
    "y_test=dataset['position']"
   ]
  },
  {
   "cell_type": "code",
   "execution_count": 13,
   "id": "c86b9686-24fa-4bf6-a75f-3f01c64a9c1d",
   "metadata": {},
   "outputs": [
    {
     "data": {
      "text/html": [
       "<style>#sk-container-id-1 {color: black;}#sk-container-id-1 pre{padding: 0;}#sk-container-id-1 div.sk-toggleable {background-color: white;}#sk-container-id-1 label.sk-toggleable__label {cursor: pointer;display: block;width: 100%;margin-bottom: 0;padding: 0.3em;box-sizing: border-box;text-align: center;}#sk-container-id-1 label.sk-toggleable__label-arrow:before {content: \"▸\";float: left;margin-right: 0.25em;color: #696969;}#sk-container-id-1 label.sk-toggleable__label-arrow:hover:before {color: black;}#sk-container-id-1 div.sk-estimator:hover label.sk-toggleable__label-arrow:before {color: black;}#sk-container-id-1 div.sk-toggleable__content {max-height: 0;max-width: 0;overflow: hidden;text-align: left;background-color: #f0f8ff;}#sk-container-id-1 div.sk-toggleable__content pre {margin: 0.2em;color: black;border-radius: 0.25em;background-color: #f0f8ff;}#sk-container-id-1 input.sk-toggleable__control:checked~div.sk-toggleable__content {max-height: 200px;max-width: 100%;overflow: auto;}#sk-container-id-1 input.sk-toggleable__control:checked~label.sk-toggleable__label-arrow:before {content: \"▾\";}#sk-container-id-1 div.sk-estimator input.sk-toggleable__control:checked~label.sk-toggleable__label {background-color: #d4ebff;}#sk-container-id-1 div.sk-label input.sk-toggleable__control:checked~label.sk-toggleable__label {background-color: #d4ebff;}#sk-container-id-1 input.sk-hidden--visually {border: 0;clip: rect(1px 1px 1px 1px);clip: rect(1px, 1px, 1px, 1px);height: 1px;margin: -1px;overflow: hidden;padding: 0;position: absolute;width: 1px;}#sk-container-id-1 div.sk-estimator {font-family: monospace;background-color: #f0f8ff;border: 1px dotted black;border-radius: 0.25em;box-sizing: border-box;margin-bottom: 0.5em;}#sk-container-id-1 div.sk-estimator:hover {background-color: #d4ebff;}#sk-container-id-1 div.sk-parallel-item::after {content: \"\";width: 100%;border-bottom: 1px solid gray;flex-grow: 1;}#sk-container-id-1 div.sk-label:hover label.sk-toggleable__label {background-color: #d4ebff;}#sk-container-id-1 div.sk-serial::before {content: \"\";position: absolute;border-left: 1px solid gray;box-sizing: border-box;top: 0;bottom: 0;left: 50%;z-index: 0;}#sk-container-id-1 div.sk-serial {display: flex;flex-direction: column;align-items: center;background-color: white;padding-right: 0.2em;padding-left: 0.2em;position: relative;}#sk-container-id-1 div.sk-item {position: relative;z-index: 1;}#sk-container-id-1 div.sk-parallel {display: flex;align-items: stretch;justify-content: center;background-color: white;position: relative;}#sk-container-id-1 div.sk-item::before, #sk-container-id-1 div.sk-parallel-item::before {content: \"\";position: absolute;border-left: 1px solid gray;box-sizing: border-box;top: 0;bottom: 0;left: 50%;z-index: -1;}#sk-container-id-1 div.sk-parallel-item {display: flex;flex-direction: column;z-index: 1;position: relative;background-color: white;}#sk-container-id-1 div.sk-parallel-item:first-child::after {align-self: flex-end;width: 50%;}#sk-container-id-1 div.sk-parallel-item:last-child::after {align-self: flex-start;width: 50%;}#sk-container-id-1 div.sk-parallel-item:only-child::after {width: 0;}#sk-container-id-1 div.sk-dashed-wrapped {border: 1px dashed gray;margin: 0 0.4em 0.5em 0.4em;box-sizing: border-box;padding-bottom: 0.4em;background-color: white;}#sk-container-id-1 div.sk-label label {font-family: monospace;font-weight: bold;display: inline-block;line-height: 1.2em;}#sk-container-id-1 div.sk-label-container {text-align: center;}#sk-container-id-1 div.sk-container {/* jupyter's `normalize.less` sets `[hidden] { display: none; }` but bootstrap.min.css set `[hidden] { display: none !important; }` so we also need the `!important` here to be able to override the default hidden behavior on the sphinx rendered scikit-learn.org. See: https://github.com/scikit-learn/scikit-learn/issues/21755 */display: inline-block !important;position: relative;}#sk-container-id-1 div.sk-text-repr-fallback {display: none;}</style><div id=\"sk-container-id-1\" class=\"sk-top-container\"><div class=\"sk-text-repr-fallback\"><pre>RandomForestClassifier(n_estimators=15, random_state=1)</pre><b>In a Jupyter environment, please rerun this cell to show the HTML representation or trust the notebook. <br />On GitHub, the HTML representation is unable to render, please try loading this page with nbviewer.org.</b></div><div class=\"sk-container\" hidden><div class=\"sk-item\"><div class=\"sk-estimator sk-toggleable\"><input class=\"sk-toggleable__control sk-hidden--visually\" id=\"sk-estimator-id-1\" type=\"checkbox\" checked><label for=\"sk-estimator-id-1\" class=\"sk-toggleable__label sk-toggleable__label-arrow\">RandomForestClassifier</label><div class=\"sk-toggleable__content\"><pre>RandomForestClassifier(n_estimators=15, random_state=1)</pre></div></div></div></div></div>"
      ],
      "text/plain": [
       "RandomForestClassifier(n_estimators=15, random_state=1)"
      ]
     },
     "execution_count": 13,
     "metadata": {},
     "output_type": "execute_result"
    }
   ],
   "source": [
    "classifier = RandomForestClassifier(n_estimators = 15, random_state = 1)\n",
    "classifier.fit(x_train, y_train)"
   ]
  },
  {
   "cell_type": "code",
   "execution_count": 14,
   "id": "ed6b736d-1ccd-432f-a72a-0fb8094e4491",
   "metadata": {},
   "outputs": [
    {
     "name": "stdout",
     "output_type": "stream",
     "text": [
      "0.6166716606079794\n"
     ]
    }
   ],
   "source": [
    "y_pred = classifier.predict(x_test)\n",
    "print(accuracy_score(y_test, y_pred))"
   ]
  },
  {
   "cell_type": "code",
   "execution_count": 17,
   "id": "4f795754-1f75-473c-a57b-7c9991aa341a",
   "metadata": {},
   "outputs": [
    {
     "name": "stdout",
     "output_type": "stream",
     "text": [
      "RMSE-Score 2.7822791618525833\n"
     ]
    }
   ],
   "source": [
    "print(\"RMSE-Score\", math.sqrt(mean_squared_error(y_test, y_pred)))"
   ]
  },
  {
   "cell_type": "code",
   "execution_count": null,
   "id": "8f1288e3-f5e6-4b2f-a9f8-5e0aa68e245e",
   "metadata": {},
   "outputs": [],
   "source": []
  }
 ],
 "metadata": {
  "kernelspec": {
   "display_name": "Python 3 (ipykernel)",
   "language": "python",
   "name": "python3"
  },
  "language_info": {
   "codemirror_mode": {
    "name": "ipython",
    "version": 3
   },
   "file_extension": ".py",
   "mimetype": "text/x-python",
   "name": "python",
   "nbconvert_exporter": "python",
   "pygments_lexer": "ipython3",
   "version": "3.11.1"
  }
 },
 "nbformat": 4,
 "nbformat_minor": 5
}
